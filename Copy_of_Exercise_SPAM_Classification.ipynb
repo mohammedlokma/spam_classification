{
  "nbformat": 4,
  "nbformat_minor": 0,
  "metadata": {
    "colab": {
      "name": "Copy of Exercise: SPAM Classification",
      "provenance": [],
      "collapsed_sections": [],
      "toc_visible": true,
      "include_colab_link": true
    },
    "kernelspec": {
      "name": "python3",
      "display_name": "Python 3"
    }
  },
  "cells": [
    {
      "cell_type": "markdown",
      "metadata": {
        "id": "view-in-github",
        "colab_type": "text"
      },
      "source": [
        "<a href=\"https://colab.research.google.com/github/mohammedlokma/spam_classification/blob/main/Copy_of_Exercise_SPAM_Classification.ipynb\" target=\"_parent\"><img src=\"https://colab.research.google.com/assets/colab-badge.svg\" alt=\"Open In Colab\"/></a>"
      ]
    },
    {
      "cell_type": "markdown",
      "metadata": {
        "id": "AhpvbF_6lpG8"
      },
      "source": [
        "### SMS Spam Classification\n",
        "\n",
        "\n"
      ]
    },
    {
      "cell_type": "markdown",
      "metadata": {
        "id": "gJ8Z3HLClZnF"
      },
      "source": [
        "In this exercise, we will solve the problem of spam SMS classification using perceptron. "
      ]
    },
    {
      "cell_type": "code",
      "metadata": {
        "id": "9dMAxiXv8R2G"
      },
      "source": [
        "## Importing libraries\n",
        "import numpy as np\n",
        "import pandas as pd\n",
        "import matplotlib.pyplot as plt\n",
        "from IPython.display import clear_output\n",
        "\n",
        "\n",
        "# For reproducibility of results.\n",
        "np.random.seed(11111)"
      ],
      "execution_count": 3,
      "outputs": []
    },
    {
      "cell_type": "code",
      "metadata": {
        "id": "Q8cwwumrM4Vn"
      },
      "source": [
        ""
      ],
      "execution_count": 3,
      "outputs": []
    },
    {
      "cell_type": "markdown",
      "metadata": {
        "id": "P1exdPyC8cl3"
      },
      "source": [
        "### Load SMS SPAM dataset"
      ]
    },
    {
      "cell_type": "markdown",
      "metadata": {
        "id": "CzUMWBbTKPWJ"
      },
      "source": [
        "You should download the SMS Spam Collection dataset from the  link\n",
        "below:\n",
        "\n",
        "https://archive.ics.uci.edu/ml/datasets/sms+spam+collection\n",
        "\n",
        "\n",
        "then upload **SMSSpamCollection** file to the colab environment.\n",
        "\n",
        "**Note**: You will need to do this everytime you connect to a new Colab environment."
      ]
    },
    {
      "cell_type": "code",
      "metadata": {
        "id": "wZgB-pt18eps"
      },
      "source": [
        "## Read the SMS spam dataset\n",
        "spam_data = pd.read_csv('SMSSpamCollection', sep='\\t',header=None,names=[\"label\", \"text\"])\n"
      ],
      "execution_count": 4,
      "outputs": []
    },
    {
      "cell_type": "code",
      "metadata": {
        "id": "Exp7lErsM7Nl"
      },
      "source": [
        ""
      ],
      "execution_count": null,
      "outputs": []
    },
    {
      "cell_type": "code",
      "metadata": {
        "id": "2ka7fT2xtF9I"
      },
      "source": [
        ""
      ],
      "execution_count": null,
      "outputs": []
    },
    {
      "cell_type": "markdown",
      "metadata": {
        "id": "M7XwgSujmaI8"
      },
      "source": [
        "Let's look at some examples of the data and their labels."
      ]
    },
    {
      "cell_type": "code",
      "metadata": {
        "colab": {
          "base_uri": "https://localhost:8080/",
          "height": 669
        },
        "id": "-CIp5fMimfQN",
        "outputId": "b75ae2bf-b935-4233-ad20-07f75bf327d7"
      },
      "source": [
        "spam_data.head(n=20)"
      ],
      "execution_count": 5,
      "outputs": [
        {
          "output_type": "execute_result",
          "data": {
            "text/html": [
              "<div>\n",
              "<style scoped>\n",
              "    .dataframe tbody tr th:only-of-type {\n",
              "        vertical-align: middle;\n",
              "    }\n",
              "\n",
              "    .dataframe tbody tr th {\n",
              "        vertical-align: top;\n",
              "    }\n",
              "\n",
              "    .dataframe thead th {\n",
              "        text-align: right;\n",
              "    }\n",
              "</style>\n",
              "<table border=\"1\" class=\"dataframe\">\n",
              "  <thead>\n",
              "    <tr style=\"text-align: right;\">\n",
              "      <th></th>\n",
              "      <th>label</th>\n",
              "      <th>text</th>\n",
              "    </tr>\n",
              "  </thead>\n",
              "  <tbody>\n",
              "    <tr>\n",
              "      <th>0</th>\n",
              "      <td>ham</td>\n",
              "      <td>Go until jurong point, crazy.. Available only ...</td>\n",
              "    </tr>\n",
              "    <tr>\n",
              "      <th>1</th>\n",
              "      <td>ham</td>\n",
              "      <td>Ok lar... Joking wif u oni...</td>\n",
              "    </tr>\n",
              "    <tr>\n",
              "      <th>2</th>\n",
              "      <td>spam</td>\n",
              "      <td>Free entry in 2 a wkly comp to win FA Cup fina...</td>\n",
              "    </tr>\n",
              "    <tr>\n",
              "      <th>3</th>\n",
              "      <td>ham</td>\n",
              "      <td>U dun say so early hor... U c already then say...</td>\n",
              "    </tr>\n",
              "    <tr>\n",
              "      <th>4</th>\n",
              "      <td>ham</td>\n",
              "      <td>Nah I don't think he goes to usf, he lives aro...</td>\n",
              "    </tr>\n",
              "    <tr>\n",
              "      <th>5</th>\n",
              "      <td>spam</td>\n",
              "      <td>FreeMsg Hey there darling it's been 3 week's n...</td>\n",
              "    </tr>\n",
              "    <tr>\n",
              "      <th>6</th>\n",
              "      <td>ham</td>\n",
              "      <td>Even my brother is not like to speak with me. ...</td>\n",
              "    </tr>\n",
              "    <tr>\n",
              "      <th>7</th>\n",
              "      <td>ham</td>\n",
              "      <td>As per your request 'Melle Melle (Oru Minnamin...</td>\n",
              "    </tr>\n",
              "    <tr>\n",
              "      <th>8</th>\n",
              "      <td>spam</td>\n",
              "      <td>WINNER!! As a valued network customer you have...</td>\n",
              "    </tr>\n",
              "    <tr>\n",
              "      <th>9</th>\n",
              "      <td>spam</td>\n",
              "      <td>Had your mobile 11 months or more? U R entitle...</td>\n",
              "    </tr>\n",
              "    <tr>\n",
              "      <th>10</th>\n",
              "      <td>ham</td>\n",
              "      <td>I'm gonna be home soon and i don't want to tal...</td>\n",
              "    </tr>\n",
              "    <tr>\n",
              "      <th>11</th>\n",
              "      <td>spam</td>\n",
              "      <td>SIX chances to win CASH! From 100 to 20,000 po...</td>\n",
              "    </tr>\n",
              "    <tr>\n",
              "      <th>12</th>\n",
              "      <td>spam</td>\n",
              "      <td>URGENT! You have won a 1 week FREE membership ...</td>\n",
              "    </tr>\n",
              "    <tr>\n",
              "      <th>13</th>\n",
              "      <td>ham</td>\n",
              "      <td>I've been searching for the right words to tha...</td>\n",
              "    </tr>\n",
              "    <tr>\n",
              "      <th>14</th>\n",
              "      <td>ham</td>\n",
              "      <td>I HAVE A DATE ON SUNDAY WITH WILL!!</td>\n",
              "    </tr>\n",
              "    <tr>\n",
              "      <th>15</th>\n",
              "      <td>spam</td>\n",
              "      <td>XXXMobileMovieClub: To use your credit, click ...</td>\n",
              "    </tr>\n",
              "    <tr>\n",
              "      <th>16</th>\n",
              "      <td>ham</td>\n",
              "      <td>Oh k...i'm watching here:)</td>\n",
              "    </tr>\n",
              "    <tr>\n",
              "      <th>17</th>\n",
              "      <td>ham</td>\n",
              "      <td>Eh u remember how 2 spell his name... Yes i di...</td>\n",
              "    </tr>\n",
              "    <tr>\n",
              "      <th>18</th>\n",
              "      <td>ham</td>\n",
              "      <td>Fine if thats the way u feel. Thats the way ...</td>\n",
              "    </tr>\n",
              "    <tr>\n",
              "      <th>19</th>\n",
              "      <td>spam</td>\n",
              "      <td>England v Macedonia - dont miss the goals/team...</td>\n",
              "    </tr>\n",
              "  </tbody>\n",
              "</table>\n",
              "</div>"
            ],
            "text/plain": [
              "   label                                               text\n",
              "0    ham  Go until jurong point, crazy.. Available only ...\n",
              "1    ham                      Ok lar... Joking wif u oni...\n",
              "2   spam  Free entry in 2 a wkly comp to win FA Cup fina...\n",
              "3    ham  U dun say so early hor... U c already then say...\n",
              "4    ham  Nah I don't think he goes to usf, he lives aro...\n",
              "5   spam  FreeMsg Hey there darling it's been 3 week's n...\n",
              "6    ham  Even my brother is not like to speak with me. ...\n",
              "7    ham  As per your request 'Melle Melle (Oru Minnamin...\n",
              "8   spam  WINNER!! As a valued network customer you have...\n",
              "9   spam  Had your mobile 11 months or more? U R entitle...\n",
              "10   ham  I'm gonna be home soon and i don't want to tal...\n",
              "11  spam  SIX chances to win CASH! From 100 to 20,000 po...\n",
              "12  spam  URGENT! You have won a 1 week FREE membership ...\n",
              "13   ham  I've been searching for the right words to tha...\n",
              "14   ham                I HAVE A DATE ON SUNDAY WITH WILL!!\n",
              "15  spam  XXXMobileMovieClub: To use your credit, click ...\n",
              "16   ham                         Oh k...i'm watching here:)\n",
              "17   ham  Eh u remember how 2 spell his name... Yes i di...\n",
              "18   ham  Fine if thats the way u feel. Thats the way ...\n",
              "19  spam  England v Macedonia - dont miss the goals/team..."
            ]
          },
          "metadata": {
            "tags": []
          },
          "execution_count": 5
        }
      ]
    },
    {
      "cell_type": "code",
      "metadata": {
        "id": "yLTVZjwEM8T5"
      },
      "source": [
        ""
      ],
      "execution_count": null,
      "outputs": []
    },
    {
      "cell_type": "code",
      "metadata": {
        "id": "uEBORNaItHNw"
      },
      "source": [
        ""
      ],
      "execution_count": null,
      "outputs": []
    },
    {
      "cell_type": "code",
      "metadata": {
        "colab": {
          "base_uri": "https://localhost:8080/"
        },
        "id": "h-2z6w1LM25x",
        "outputId": "9fe186bb-c45b-4d41-871a-d7751dd1c8f5"
      },
      "source": [
        "## Count how many SPAM and ham messages\n",
        "spam_data['label'].value_counts()"
      ],
      "execution_count": 6,
      "outputs": [
        {
          "output_type": "execute_result",
          "data": {
            "text/plain": [
              "ham     4825\n",
              "spam     747\n",
              "Name: label, dtype: int64"
            ]
          },
          "metadata": {
            "tags": []
          },
          "execution_count": 6
        }
      ]
    },
    {
      "cell_type": "code",
      "metadata": {
        "id": "VVSeNzssM9ve"
      },
      "source": [
        ""
      ],
      "execution_count": null,
      "outputs": []
    },
    {
      "cell_type": "code",
      "metadata": {
        "id": "k4rzK2dYtJAG"
      },
      "source": [
        ""
      ],
      "execution_count": null,
      "outputs": []
    },
    {
      "cell_type": "markdown",
      "metadata": {
        "id": "S6X0F5_OmFpu"
      },
      "source": [
        "In order to test the algorithm on examples not seen during the training, let's split the dataset into two parts : training and test subsets."
      ]
    },
    {
      "cell_type": "code",
      "metadata": {
        "id": "ubjc9t32byBi"
      },
      "source": [
        "def train_test_split(data, train_ratio=0.75):\n",
        "  \"\"\" Utility function to randomly split input data frame into training and \n",
        "  test subsets.\n",
        "  params:\n",
        "  train_ratio: percentage of examples that goes into training subset.\n",
        "  \"\"\"\n",
        "  num_data = spam_data.shape[0]\n",
        "  num_train = int(num_data * train_ratio)\n",
        "  all_idx = np.arange(num_data)\n",
        "  train_idx = all_idx[:num_train]\n",
        "  test_idx = all_idx[num_train:]\n",
        "  train_data = data.iloc[train_idx]\n",
        "  test_data = data.iloc[test_idx]\n",
        "  return train_data, test_data"
      ],
      "execution_count": 7,
      "outputs": []
    },
    {
      "cell_type": "code",
      "metadata": {
        "id": "ea3Wi9UHM-1t"
      },
      "source": [
        ""
      ],
      "execution_count": null,
      "outputs": []
    },
    {
      "cell_type": "code",
      "metadata": {
        "id": "Zlga0GpftNmH"
      },
      "source": [
        ""
      ],
      "execution_count": null,
      "outputs": []
    },
    {
      "cell_type": "code",
      "metadata": {
        "colab": {
          "base_uri": "https://localhost:8080/"
        },
        "id": "c9km2uAtciJu",
        "outputId": "b8c75b5c-0f53-4785-baaa-b7d9bd1b168e"
      },
      "source": [
        "spam_train, spam_test = train_test_split(spam_data)\n",
        "print(\"Training set size: \", spam_train.shape[0])\n",
        "print(\"Test set size: \", spam_test.shape[0])"
      ],
      "execution_count": 8,
      "outputs": [
        {
          "output_type": "stream",
          "text": [
            "Training set size:  4179\n",
            "Test set size:  1393\n"
          ],
          "name": "stdout"
        }
      ]
    },
    {
      "cell_type": "code",
      "metadata": {
        "id": "3_OiVATYNAEs"
      },
      "source": [
        ""
      ],
      "execution_count": null,
      "outputs": []
    },
    {
      "cell_type": "code",
      "metadata": {
        "id": "HIJs5cU1tQCp"
      },
      "source": [
        ""
      ],
      "execution_count": null,
      "outputs": []
    },
    {
      "cell_type": "markdown",
      "metadata": {
        "id": "mHk63uBnNuXf"
      },
      "source": [
        "## Bag of Words Feature Representation"
      ]
    },
    {
      "cell_type": "markdown",
      "metadata": {
        "id": "MpIIN3lLmuKd"
      },
      "source": [
        "The input examples are represented as text. We need to transform them each text message into a vector of numbers which we can process using our neural network.\n",
        "\n",
        "We will use a simple method called **Bag of words**. You can read about the bag of words approach in the links below:\n",
        "\n",
        "\n",
        "*   https://machinelearningmastery.com/gentle-introduction-bag-words-model/\n",
        "*   https://en.wikipedia.org/wiki/Bag-of-words_model\n",
        "\n"
      ]
    },
    {
      "cell_type": "markdown",
      "metadata": {
        "id": "bTXwGkRPnzma"
      },
      "source": [
        "To process the input text using bag of words, we need to build a vocabulary to maps each unique word (ignoring the letters case) to a unique integer.\n",
        "\n",
        "Let's start by creating a vocabulary dictionary which counts the number of times each unique (ignoring casing) word appears in the training data."
      ]
    },
    {
      "cell_type": "code",
      "metadata": {
        "id": "kLfJ0gD1NyG9"
      },
      "source": [
        "def build_word_counts(data):\n",
        "  \"\"\" A function that builds a dictionary with the counts of each word occurs \n",
        "  in the dataset. Ignore the letter casing.\"\"\"\n",
        "  vocab = {}\n",
        "  for idx, row in data.iterrows():\n",
        "    row_text = row.text\n",
        "    row_words = row_text.split(' ')\n",
        "    row_words=[w.lower() for w in row_words]\n",
        "    for w in row_words:\n",
        "      if w in vocab:\n",
        "        vocab[w] += 1\n",
        "      else:\n",
        "        vocab[w] = 1\n",
        "  return vocab\n",
        "\n"
      ],
      "execution_count": 9,
      "outputs": []
    },
    {
      "cell_type": "code",
      "metadata": {
        "id": "4wbd3AIPNBPW"
      },
      "source": [
        ""
      ],
      "execution_count": null,
      "outputs": []
    },
    {
      "cell_type": "code",
      "metadata": {
        "id": "kVNnxmMQtSrO"
      },
      "source": [
        ""
      ],
      "execution_count": null,
      "outputs": []
    },
    {
      "cell_type": "code",
      "metadata": {
        "id": "GfMUq2WcPfol"
      },
      "source": [
        "vocab = build_word_counts(spam_train)\n"
      ],
      "execution_count": 10,
      "outputs": []
    },
    {
      "cell_type": "code",
      "metadata": {
        "id": "DKdifZYqNC5P"
      },
      "source": [
        ""
      ],
      "execution_count": null,
      "outputs": []
    },
    {
      "cell_type": "markdown",
      "metadata": {
        "id": "JQyZPZhnoOd5"
      },
      "source": [
        "Now, let's generate the mapping of each word to a unique number. We will also ignore words that were found only few times in the training data (less than $min\\_count$)."
      ]
    },
    {
      "cell_type": "code",
      "metadata": {
        "id": "npT-ZB8JQlBL"
      },
      "source": [
        "def build_word_index(vocab, min_count=10):\n",
        "  word_index = {}\n",
        "  cur_index = 0\n",
        "  for word, count in vocab.items():\n",
        "    if count > min_count:\n",
        "      if not word in word_index:\n",
        "        word_index[word] = cur_index\n",
        "        cur_index += 1\n",
        "  return word_index"
      ],
      "execution_count": 11,
      "outputs": []
    },
    {
      "cell_type": "code",
      "metadata": {
        "id": "cR43YbYTNEzu"
      },
      "source": [
        ""
      ],
      "execution_count": null,
      "outputs": []
    },
    {
      "cell_type": "code",
      "metadata": {
        "id": "Lu-ns5zcRLfx"
      },
      "source": [
        "word_to_index = build_word_index(vocab, min_count=10)"
      ],
      "execution_count": 12,
      "outputs": []
    },
    {
      "cell_type": "code",
      "metadata": {
        "id": "o-gl62kYNKOF"
      },
      "source": [
        ""
      ],
      "execution_count": null,
      "outputs": []
    },
    {
      "cell_type": "code",
      "metadata": {
        "id": "tTJewVFURED6"
      },
      "source": [
        "def generate_input_target_matrix(data, word_index):\n",
        "  \"\"\" Helper function to transform the input data using the bag of words approach\n",
        "  params:\n",
        "  data: input data frame containing examples of text and labels.\n",
        "  word_index: dictionary that maps each unique word to a unique integer number.\n",
        "  \"\"\"\n",
        "\n",
        "  num_examples = data.shape[0]\n",
        "  num_words = len(word_index)\n",
        "  y = np.zeros(shape=(num_examples,), dtype=np.int32)\n",
        "\n",
        "  X = np.zeros(shape=(num_examples, num_words+1), dtype=np.float32)\n",
        "  # Number of columns in X = number of words in the word_index + 1. The last\n",
        "  # column corresponds to unknown words (UNK) which are not found the word_index.\n",
        "  for row_idx in range(num_examples):\n",
        "    row = data.iloc[row_idx]\n",
        "    row_text = row.text\n",
        "    row_words = row_text.split(\" \")\n",
        "    row_words = [w.lower() for w in row_words]\n",
        "    for w in row_words: \n",
        "      if w in word_index : \n",
        "        X[row_idx,word_index[w]] += 1\n",
        "      else:\n",
        "        X[row_idx,num_words] += 1  \n",
        "   \n",
        "    label = row.label\n",
        "    if label=='spam':\n",
        "      y[row_idx] = 1\n",
        "  return X, y\n"
      ],
      "execution_count": 13,
      "outputs": []
    },
    {
      "cell_type": "code",
      "metadata": {
        "id": "RqvoL-rENMIt"
      },
      "source": [
        ""
      ],
      "execution_count": null,
      "outputs": []
    },
    {
      "cell_type": "markdown",
      "metadata": {
        "id": "ENgfNUBNOpQE"
      },
      "source": [
        "To test your implementation of the `generate_input_target_matrix`, you can use the following unit test."
      ]
    },
    {
      "cell_type": "code",
      "metadata": {
        "id": "JdqzB2nSOvdj",
        "colab": {
          "base_uri": "https://localhost:8080/"
        },
        "outputId": "4a927bf5-d7fc-4ba1-adac-7c87fedc2947"
      },
      "source": [
        "test_data = pd.DataFrame({\n",
        "    'text':['i like playing football', 'football is popular'],\n",
        "    'label':[ 'ham', 'spam']} )\n",
        "test_word_index = {'i':0, 'football':1, 'playing': 2, 'like':3} \n",
        "\n",
        "test_output_X, test_output_y = generate_input_target_matrix(test_data, test_word_index)\n",
        "\n",
        "np.testing.assert_equal(test_output_X, np.array([[1., 1, 1., 1., 0],[0., 1., 0., 0., 2.]]))\n",
        "\n",
        "np.testing.assert_equal(test_output_y, np.array([0, 1]))\n",
        "print(\"Looks OK !!\")"
      ],
      "execution_count": 14,
      "outputs": [
        {
          "output_type": "stream",
          "text": [
            "Looks OK !!\n"
          ],
          "name": "stdout"
        }
      ]
    },
    {
      "cell_type": "code",
      "metadata": {
        "id": "PWW1w77xNPWd"
      },
      "source": [
        ""
      ],
      "execution_count": null,
      "outputs": []
    },
    {
      "cell_type": "code",
      "metadata": {
        "id": "8eCyT0c_udJ9"
      },
      "source": [
        ""
      ],
      "execution_count": null,
      "outputs": []
    },
    {
      "cell_type": "markdown",
      "metadata": {
        "id": "Y3SBRhwaOihE"
      },
      "source": [
        "#### Prepare training and testing data "
      ]
    },
    {
      "cell_type": "code",
      "metadata": {
        "id": "AyHxgQzHU-dA"
      },
      "source": [
        "train_X, train_y = generate_input_target_matrix(spam_train, word_to_index)\n",
        "test_X, test_y = generate_input_target_matrix(spam_test, word_to_index)"
      ],
      "execution_count": 15,
      "outputs": []
    },
    {
      "cell_type": "code",
      "metadata": {
        "id": "Vh4_F8nUNROk"
      },
      "source": [
        ""
      ],
      "execution_count": null,
      "outputs": []
    },
    {
      "cell_type": "markdown",
      "metadata": {
        "id": "9ILWB4PjBDv-"
      },
      "source": [
        "# Perceptron Learning"
      ]
    },
    {
      "cell_type": "code",
      "metadata": {
        "id": "m7TyXkffxiYF"
      },
      "source": [
        "class Perceptron:\n",
        "  def __init__(self, learning_rate=0.1, num_features=2):\n",
        "    self.num_features=num_features\n",
        "    self.w = np.random.rand(self.num_features+1,)\n",
        "    self.lr = learning_rate\n",
        "\n",
        "  def predict(self, input_x):\n",
        "    \"\"\" Helper function to perform prediction on given example \"\"\"\n",
        "    xAddBias = np.hstack((1,input_x))\n",
        "    pred = (np.dot(xAddBias, self.w) > 0).astype(np.float32)\n",
        "    return pred\n",
        "\n",
        "  def compute_accuracy(self, X, y):\n",
        "    m = X.shape[0]\n",
        "    correct = 0\n",
        "    for i in range(m):\n",
        "      pred = self.predict(X[i,:])\n",
        "      if pred == y[i]:\n",
        "        correct += 1\n",
        "    return float(correct) / m\n",
        "\n",
        "  def train_one_epoch(self, train_X, train_y):\n",
        "    \"\"\" Function to perform one epoch of training using all given examples.\n",
        "    returns True if the algorithm has correct prediction for all given examples.\n",
        "    \"\"\"\n",
        "    converged = True\n",
        "    m = train_X.shape[0]\n",
        "    new_w = self.w.copy()\n",
        "    for i in range(m) : \n",
        "      cur_x = train_X[i,]\n",
        "      pred = self.predict(cur_x)\n",
        "      e = train_y[i] - pred\n",
        "      if e != 0:\n",
        "        xAddBias = np.hstack((1, cur_x))\n",
        "        new_w = new_w + e*self.lr * xAddBias\n",
        "        converged = False\n",
        "    self.w = new_w\n",
        "    return converged    \n"
      ],
      "execution_count": 16,
      "outputs": []
    },
    {
      "cell_type": "code",
      "metadata": {
        "id": "4sagwG6ONSeU"
      },
      "source": [
        ""
      ],
      "execution_count": null,
      "outputs": []
    },
    {
      "cell_type": "code",
      "metadata": {
        "id": "0kANC1Vixw1s",
        "colab": {
          "base_uri": "https://localhost:8080/",
          "height": 320
        },
        "outputId": "f52e4168-115a-4cf9-b60f-a29630772293"
      },
      "source": [
        "perceptron = Perceptron(learning_rate=0.01, num_features=train_X.shape[1])\n",
        "test_accuracy_list = []\n",
        "train_accuracy_list = []\n",
        "for step_idx in range(300):\n",
        "  clear_output(wait=True)\n",
        "  is_converged = perceptron.train_one_epoch(train_X, train_y)\n",
        "  cur_train_accuracy = perceptron.compute_accuracy(train_X, train_y)\n",
        "  cur_test_accuracy = perceptron.compute_accuracy(test_X, test_y)\n",
        "  train_accuracy_list.append(cur_train_accuracy)\n",
        "  test_accuracy_list.append(cur_test_accuracy)\n",
        "  print('step = : ',step_idx)\n",
        "  print('Training set accuracy: ', cur_train_accuracy)\n",
        "  print('Testing set accuracy: ', cur_test_accuracy)\n",
        "  plt.plot(train_accuracy_list, label='train accuracy')\n",
        "  plt.plot(test_accuracy_list, label='test accuracy')\n",
        "  plt.ylim(0,1)\n",
        "  plt.legend()\n",
        "  plt.show()\n",
        "  if is_converged:\n",
        "    break\n",
        "\n"
      ],
      "execution_count": 17,
      "outputs": [
        {
          "output_type": "stream",
          "text": [
            "step = :  299\n",
            "Training set accuracy:  0.9810959559703278\n",
            "Testing set accuracy:  0.9741564967695621\n"
          ],
          "name": "stdout"
        },
        {
          "output_type": "display_data",
          "data": {
            "image/png": "[encoded data removed]",
            "text/plain": [
              "<Figure size 432x288 with 1 Axes>"
            ]
          },
          "metadata": {
            "tags": [],
            "needs_background": "light"
          }
        }
      ]
    },
    {
      "cell_type": "code",
      "metadata": {
        "id": "aS-NRUL6NUZx"
      },
      "source": [
        ""
      ],
      "execution_count": null,
      "outputs": []
    },
    {
      "cell_type": "markdown",
      "metadata": {
        "id": "rb-n8M1B81rh"
      },
      "source": [
        "## Analyze the model"
      ]
    },
    {
      "cell_type": "markdown",
      "metadata": {
        "id": "uDZI6aIUprP4"
      },
      "source": [
        "Let's now inspect the final model and try to understand how does it work.\n",
        "\n",
        "We will explore what are the most important features to predict a message is SPAM and what are the most important words. to predict a message is HAM."
      ]
    },
    {
      "cell_type": "code",
      "metadata": {
        "id": "iTrd21vTp7kg"
      },
      "source": [
        "final_weights = perceptron.w"
      ],
      "execution_count": 18,
      "outputs": []
    },
    {
      "cell_type": "code",
      "metadata": {
        "id": "YCGD2KolNx_y"
      },
      "source": [
        ""
      ],
      "execution_count": null,
      "outputs": []
    },
    {
      "cell_type": "markdown",
      "metadata": {
        "id": "skCZm7CEp5vm"
      },
      "source": [
        "Let's start by building an inverted index dictionary that maps an index number of our feature vector to the corresponding word."
      ]
    },
    {
      "cell_type": "code",
      "metadata": {
        "id": "j-DOvosM7LqW"
      },
      "source": [
        "index_to_word = {}\n",
        "for k,v in word_to_index.items():\n",
        "  index_to_word[v] = k"
      ],
      "execution_count": 19,
      "outputs": []
    },
    {
      "cell_type": "code",
      "metadata": {
        "id": "9H9dWTI2Nz11"
      },
      "source": [
        ""
      ],
      "execution_count": null,
      "outputs": []
    },
    {
      "cell_type": "markdown",
      "metadata": {
        "id": "BoDdhYiDqJRA"
      },
      "source": [
        "The most important words to predict a message is SPAM are words that have the largest positive weight."
      ]
    },
    {
      "cell_type": "code",
      "metadata": {
        "id": "6FIeVM0x7ovG",
        "colab": {
          "base_uri": "https://localhost:8080/"
        },
        "outputId": "0b8ab04c-001d-4289-bddd-91b1da187daf"
      },
      "source": [
        "top_spam_words_idx = np.argsort(final_weights)[-20:]\n",
        "top_spam_words = [index_to_word[idx] for idx in top_spam_words_idx]\n",
        "print(top_spam_words)"
      ],
      "execution_count": 20,
      "outputs": [
        {
          "output_type": "stream",
          "text": [
            "['0800', 'a', 'r', 'has', 'services', 'dont', 'final', 'play', 'pounds', 'sorry,', 'or', 'and', 'job', '4', 'k,', 'call', 'entry', 'receive', 'apply', 'code']\n"
          ],
          "name": "stdout"
        }
      ]
    },
    {
      "cell_type": "code",
      "metadata": {
        "id": "N1uds3glN1BN"
      },
      "source": [
        ""
      ],
      "execution_count": null,
      "outputs": []
    },
    {
      "cell_type": "markdown",
      "metadata": {
        "id": "BdwqxaVxqU3d"
      },
      "source": [
        "The most important words to predict a message is HAM are words that have the largest (in magnitude) but negative weight."
      ]
    },
    {
      "cell_type": "code",
      "metadata": {
        "id": "qKCJ-oUX7zfF",
        "colab": {
          "base_uri": "https://localhost:8080/"
        },
        "outputId": "8d4fa13e-0278-4a83-a503-09552878ce5d"
      },
      "source": [
        "top_ham_words_idx = np.argsort(final_weights)[:20]\n",
        "top_ham_words = [index_to_word[idx] for idx in top_ham_words_idx]\n",
        "print(top_ham_words)"
      ],
      "execution_count": 21,
      "outputs": [
        {
          "output_type": "stream",
          "text": [
            "['go', \"don't\", 'is', 'k', 'we', 'calls', 'n', 'way', 'as', 'goes', 'xxx', 'out', \"won't\", 'their', \"we're\", 'ok', 'b', 'date', 'going', 'great']\n"
          ],
          "name": "stdout"
        }
      ]
    },
    {
      "cell_type": "code",
      "metadata": {
        "id": "otIlzbMyN2U0"
      },
      "source": [
        ""
      ],
      "execution_count": null,
      "outputs": []
    },
    {
      "cell_type": "code",
      "metadata": {
        "id": "n0Vxba6T8y0y"
      },
      "source": [
        ""
      ],
      "execution_count": null,
      "outputs": []
    }
  ]
}